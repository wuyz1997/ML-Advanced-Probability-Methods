{
 "cells": [
  {
   "cell_type": "markdown",
   "metadata": {
    "deletable": false,
    "editable": false,
    "nbgrader": {
     "cell_type": "markdown",
     "checksum": "ec2f2cbb158c2d8f03d616a694899ec7",
     "grade": false,
     "grade_id": "cell-81c5a400584e4a8f",
     "locked": true,
     "schema_version": 3,
     "solution": false,
     "task": false
    }
   },
   "source": [
    "## CS-E4820 Machine Learning: Advanced Probabilistic Methods (spring 2021)\n",
    "\n",
    "Pekka Marttinen, Santosh Hiremath, Tianyu Cui, Yogesh Kumar, Zheyang Shen, Alexander Aushev, Khaoula El Mekkaoui, Shaoxiong Ji, Alexander Nikitin, Sebastiaan De Peuter, Joakim Järvinen.\n",
    "\n",
    "## Exercise 3, due on Tuesday February 9 at 23:00.\n",
    "\n",
    "### Contents\n",
    "1. Problem 1: Poisson-Gamma\n",
    "2. Problem 2: Multivariate Gaussian\n",
    "3. Problem 3: Posterior of regression weights"
   ]
  },
  {
   "cell_type": "markdown",
   "metadata": {
    "deletable": false,
    "editable": false,
    "nbgrader": {
     "cell_type": "markdown",
     "checksum": "38bb2e5ebde49e1760a076b099d6e5a6",
     "grade": false,
     "grade_id": "cell-573bbaa2ef327be0",
     "locked": true,
     "points": 2,
     "schema_version": 3,
     "solution": false,
     "task": true
    }
   },
   "source": [
    "## Problem 1: Poisson-Gamma\n",
    "\n",
    "Suppose you have $N$ i.i.d. observations $\\mathbf{x}= \\{x_i\\}_{i=1}^N$ from a $\\operatorname{Poisson}(\\lambda)$ distribution with a rate parameter $\\lambda$ that has a conjugate prior \n",
    "\n",
    "$$\\lambda \\sim \\operatorname{Gamma}(a,b)$$\n",
    "\n",
    "with the shape and rate hyperparameters $a$ and $b$. Derive the posterior distribution $\\lambda|\\bf{x}$.\n",
    "\n",
    "Write your solutions in LateX or attach a picture in the answer cell provided below. You can add a picture using the command ```!(imagename_in_the_folder.jpg)```. Latex in here works similarly as you would write it normally! You can use some of the definitions from the exercise description as a reference. The list of valid Latex commands in Jypyter notebook can be found here: http://www.onemathematicalcat.org/MathJaxDocumentation/TeXSyntax.htm\n",
    "\n",
    "\n"
   ]
  },
  {
   "cell_type": "markdown",
   "metadata": {},
   "source": [
    "\\begin{aligned}\n",
    "P(\\lambda|\\mathbf{x})& \\propto p(x \\mid \\lambda) p(\\lambda), \\ \\ \\ \\text{ where} \\ \\lambda > 0 \\\\\n",
    "&=\\prod_{i=1}^{n}\\frac{\\lambda^{x_i} e^{-\\lambda}}{x_i !}\\frac{b^{a} \\lambda^{a-1} e^{-b\\lambda}}{\\Gamma(a)}\\\\\n",
    "&=\\frac{ \\lambda^{\\sum_{i=1}^{n} x_{i}}e^{-n \\lambda}}{\\prod_{i=1}^{n}\\left(x_{i} !\\right)}\\frac{b^{a} \\lambda^{a-1} e^{-b \\lambda}}{\\Gamma(a)}\\\\\n",
    "&\\propto \\lambda^{\\sum_{i=1}^{n} x_{i}+a-1} e^{-(n+b) \\lambda}\n",
    "\\end{aligned}\n",
    "\n",
    "Hence the posterior distribution $\\lambda \\mid \\mathbf{x}$ is $\\operatorname{Gamma}(\\sum_{i=1}^{n} x_{i}+a, n+b).$"
   ]
  },
  {
   "cell_type": "markdown",
   "metadata": {
    "deletable": false,
    "editable": false,
    "nbgrader": {
     "cell_type": "markdown",
     "checksum": "c2d1bd8470ba33c5aa2596654e3cefbc",
     "grade": false,
     "grade_id": "cell-7fdfccb96ae5c3d1",
     "locked": true,
     "points": 2,
     "schema_version": 3,
     "solution": false,
     "task": true
    }
   },
   "source": [
    "## Problem 2: Multivariate Gaussian\n",
    "\n",
    "Suppose we have $N$ i.i.d. observations $\\mathbf{X} = \\{\\mathbf{x}_i\\}_{i=1}^N$ from a multivariate Gaussian distribution $$\\mathbf{x}_i \\mid \\boldsymbol{\\mu} \\sim \\mathcal{N}(\\boldsymbol{\\mu}, \\boldsymbol{\\Sigma})$$ with unknown mean parameter $\\boldsymbol{\\mu}$  and a known covariance matrix $\\boldsymbol{\\Sigma}$. As prior information on the mean parameter we have $$ \\boldsymbol{\\mu} \\sim \\mathcal{N}(\\mathbf{m_0}, \\mathbf{S_0}). $$\n",
    "\n",
    "__(a)__ Derive the posterior distribution $p(\\boldsymbol{\\mu}|\\mathbf{X})$ of the mean parameter $\\boldsymbol{\\mu}$. Write your solution in LateX or attach a picture of the solution in the cell below.\n",
    "\n",
    "__(b)__ Compare the Bayesian estimate (posterior mean) to the maximum likelihood estimate by generating $N=10$ observations from the bivariate Gaussian \n",
    "        $$\\mathcal{N}\\left(\\begin{bmatrix}0 \\\\ 0\\end{bmatrix}, \\begin{bmatrix}1 & 0 \\\\ 0 & 1\\end{bmatrix}\\right).$$\n",
    "For this you can use the Python function [numpy.random.normal](https://docs.scipy.org/doc/numpy/reference/generated/numpy.random.normal.html), making use of the fact that the elements of the bivariate random vectors are independent. In the Bayesian case, use the prior with $\\mathbf{m_0} = [0,0]^T$ and $\\mathbf{S_0} = [\\begin{smallmatrix}0.1 & 0 \\\\ 0 & 0.1\\end{smallmatrix}]$. Report both estimates. Is the Bayesian estimate closer to the true value $\\boldsymbol{\\mu} = [0,0]^T$? Use the code template given below (after the answer cell) to complete your answer.\n",
    "\n",
    "Write your solutions to __(a)__ and __(b)__ in LateX or attach a picture in the answer cell provided below. \n",
    "\n"
   ]
  },
  {
   "cell_type": "markdown",
   "metadata": {},
   "source": [
    "__(a)__\n",
    "\\begin{aligned}\n",
    "P(\\boldsymbol{\\mu} \\mid \\mathbf{X})&=P(\\mathbf{X} \\mid \\boldsymbol{\\mu})P( \\boldsymbol{\\mu})\\\\\n",
    "&=\\prod_{i=1}^{n}(2 \\pi)^{-\\frac{D}{2}}|\\Sigma|^{-\\frac{1}{2}} e^{-\\frac{1}{2}(x_i-\\mu)^{T} \\Sigma^{-1}(x_i-\\mu)}\\times(2 \\pi)^{-\\frac{D}{2}}\\left|S_{0}\\right|^{-\\frac{1}{2}} e^{-\\frac{1}{2}\\left(\\mu-m_{0}\\right)^{T} S_{0}^{-1}\\left(\\mu-m_{0}\\right)}\\\\\n",
    "&\\propto e^{-\\frac{1}{2}\\sum^{N}_{i=1}(x_i-\\mu)^{T} \\Sigma^{-1}(x_i-\\mu)-\\frac{1}{2}\\left(\\mu-m_{0}\\right)^{T} S_{0}^{-1}\\left(\\mu-m_{0}\\right)}\\\\\n",
    "\\text{Then we take the logarithm transformation}\\\\\n",
    "\\ln{P(\\boldsymbol{\\mu} \\mid \\mathbf{X})}&\\propto -\\frac{1}{2}\\sum^{N}_{i=1}(x_i-\\mu)^{T} \\Sigma^{-1}(x_i-\\mu)-\\frac{1}{2}\\left(\\mu-m_{0}\\right)^{T} S_{0}^{-1}\\left(\\mu-m_{0}\\right)\\\\\n",
    "&\\propto \\frac{1}{2}N\\mu^T\\Sigma^{-1}\\mu+\\sum^{N}_{i=1}\\mu^T\\Sigma^{-1}x_i-\\frac{1}{2}\\mu^TS_0^{-1}\\mu+\\mu^TS_o^{-1}m_0\\\\\n",
    "&=-\\frac{1}{2}\\mu^T(N\\Sigma^{-1}+S_0^{-1})\\mu+\\mu^T\\left(\\sum_{i=1}^N \\Sigma^{-1}x_i+S_0^{-1}m_0\\right)\\\\\n",
    "\\text{By using the completing the square method, we have}\\\\\n",
    "& \\propto -\\frac{1}{2}\\left(\\mu-(N\\Sigma^{-1}+S_0^{-1})^{-1}\\left(\\Sigma^{-1}\\sum^{N}_{i=1}x_i+S_0^{-1}m_0\\right)\\right)^{T}(N\\Sigma^{-1}+S_0^{-1})\\left(\\mu-(N\\Sigma^{-1}+S_0^{-1})^{-1}\\left(\\Sigma^{-1}\\sum^{N}_{i=1}x_i+S_0^{-1}m_0\\right)\\right)\n",
    "\\end{aligned}\n",
    "\n",
    "Therefore, $$P(\\mu \\mid \\mathbf{X}) \\propto \\mathcal{N}\\left((N\\Sigma^{-1}+S_0^{-1})^{-1}\\left(\\Sigma^{-1}\\sum^{N}_{i=1}x_i+S_0^{-1}m_0\\right),(N\\Sigma^{-1}+S_0^{-1})^{-1}\\right). $$"
   ]
  },
  {
   "cell_type": "code",
   "execution_count": 13,
   "metadata": {
    "deletable": false,
    "nbgrader": {
     "cell_type": "code",
     "checksum": "af88913931d4649db8324917756a5b72",
     "grade": false,
     "grade_id": "cell-e6a09ef8bf1f72d3",
     "locked": false,
     "schema_version": 3,
     "solution": true,
     "task": false
    }
   },
   "outputs": [
    {
     "name": "stdout",
     "output_type": "stream",
     "text": [
      "[ 0.07498563 -0.16690225]\n",
      "[ 0.03749281 -0.08345112]\n"
     ]
    }
   ],
   "source": [
    "# template for 2(b)\n",
    "import numpy as np\n",
    "from numpy.linalg import inv\n",
    "\n",
    "S0 = np.array([[0.1, 0],[0, 0.1]])\n",
    "Sigma = np.array([[1, 0],[0, 1]])\n",
    "m=np.array([0,0]).T\n",
    "m0=np.array([0,0]).T\n",
    "N = 10\n",
    "# Sample N bivariate normal vectors\n",
    "# compute MLE and also the posterior mean solution\n",
    "\n",
    "x =np.random.multivariate_normal(m,Sigma,N)\n",
    "mle = 1/N *np.sum(x,axis=0)\n",
    "posterior_mean = inv(N*inv(Sigma)+inv(S0))@(inv(Sigma)@np.sum(x,axis=0)+inv(S0)@m0)\n",
    "\n",
    "# YOUR CODE HERE\n",
    "\n",
    "print(mle)\n",
    "print(posterior_mean)"
   ]
  },
  {
   "cell_type": "markdown",
   "metadata": {},
   "source": [
    "Compare to the maximum likelihood estimate, the Bayesian estimate is closer to the true value $\\mathbf{m_0} = [0,0]^T$."
   ]
  },
  {
   "cell_type": "markdown",
   "metadata": {
    "deletable": false,
    "editable": false,
    "nbgrader": {
     "cell_type": "markdown",
     "checksum": "ddf1e85bf2fabec6a07c3676a5945499",
     "grade": false,
     "grade_id": "cell-6f265c79745ea700",
     "locked": true,
     "points": 2,
     "schema_version": 3,
     "solution": false,
     "task": true
    }
   },
   "source": [
    "# Problem 3: Posterior of regression weights\n",
    "\n",
    "Suppose $y_{i}=\\mathbf{w}^{T}\\mathbf{x}_{i}+\\epsilon_{i},$ for $i=1,\\ldots,n,$ where $\\epsilon_{i}\\sim \\mathcal{N}(0,\\beta^{-1})$. Assume a prior $$\\mathbf{w} \\sim \\mathcal{N} (\\mathbf{0},\\alpha^{-1}\\mathbf{I}).$$ Use 'completing the square' to show that the posterior of $\\mathbf{w}$ is given by $p(\\mathbf{w} \\mid \\mathbf{y}, \\mathbf{x}, \\alpha, \\beta)=\\mathcal{N}(\\mathbf{w} \\mid \\mathbf{m}, \\mathbf{S}),$ where \n",
    "\\begin{align*}\n",
    "    \\mathbf{S} &= \\left( \\alpha \\mathbf{I} + \\beta \\sum_{i=1}^n \\mathbf{x}_i \\mathbf{x}_i^T \\right)^{-1}\\;, \\\\\n",
    "    \\mathbf{m} &= \\beta \\mathbf{S} \\sum_{i=1}^{n} y_i \\mathbf{x}_i.\n",
    "\\end{align*}\n",
    "\n",
    "Write your solution in LateX or attach a picture of the solution in the cell below.\n"
   ]
  },
  {
   "cell_type": "markdown",
   "metadata": {},
   "source": [
    "\\begin{aligned}\n",
    "\\ln{P(\\mathbf{w} \\mid \\mathbf{y}, \\mathbf{x}, \\alpha, \\beta)}&=\\ln{P(\\mathbf{y}\\mid \\mathbf{w} , \\mathbf{x}, \\alpha, \\beta)}+\\ln{P(\\mathbf{w})}\\\\\n",
    "&\\propto\\sum_{i=1}^{n}   \\left(-\\frac{1}{2}\\left(y_{i}-\\mathbf{w}^{T}\\mathbf{x}_{i} \\right)^{T}\\beta\\left(y_{i}-\\mathbf{w}^{T}\\mathbf{x}_{i} \\right)\\right)+  \\left(-\\frac{1}{2}\\mathbf{w} \\alpha I\\mathbf{w}^{T}\\right)\\\\\n",
    "&=-\\sum_{i=1}^{n}\\frac{1}{2}(\\mathbf{w}^{T}\\mathbf{x}_{i})^{T}\\beta\\mathbf{w}^{T}\\mathbf{x}_{i}+\\sum_{i=1}^{n}y_i^{T}\\beta \\mathbf{w}^{T}x_{i}-\\frac{1}{2}\\mathbf{w} \\alpha I\\mathbf{w}^{T}\\\\\n",
    "&\\propto-\\frac{1}{2}\\left(\\mathbf{w}^{T}-\\left(\\alpha I+\\beta \\sum_{i=1}^{n} \\mathbf{x}_{i} \\mathbf{x}_{i}^T\\right)^{-1}\\beta \\sum_{i=1}^{m} y_{i} \\mathbf{x}_{i}\n",
    "\\right)^{T}\\left(\\alpha I+\\beta \\sum_{i=1}^{n} \\mathbf{x}_{i} \\mathbf{x}_{i}^{T}\\right)\\left(\\mathbf{w}^{T}-\\left(\\alpha I+\\beta \\sum_{i=1}^{n} \\mathbf{x}_{i} \\mathbf{x}_{i}^T\\right)^{-1}\\beta \\sum_{i=1}^{m} y_{i} \\mathbf{x}_{i}\n",
    "\\right)\n",
    "\\end{aligned}\n",
    "Hence we have the posterior of $\\mathbf{w}$ is given by $p(\\mathbf{w} \\mid \\mathbf{y}, \\mathbf{x}, \\alpha, \\beta)=\\mathcal{N}(\\mathbf{w} \\mid \\mathbf{m}, \\mathbf{S}),$ where \n",
    "\\begin{align*}\n",
    "    \\mathbf{S} &= \\left( \\alpha \\mathbf{I} + \\beta \\sum_{i=1}^n \\mathbf{x}_i \\mathbf{x}_i^T \\right)^{-1}\\;, \\\\\n",
    "    \\mathbf{m} &= \\beta \\mathbf{S} \\sum_{i=1}^{n} y_i \\mathbf{x}_i.\n",
    "\\end{align*}"
   ]
  },
  {
   "cell_type": "code",
   "execution_count": null,
   "metadata": {},
   "outputs": [],
   "source": []
  }
 ],
 "metadata": {
  "kernelspec": {
   "display_name": "Python 3",
   "language": "python",
   "name": "python3"
  },
  "language_info": {
   "codemirror_mode": {
    "name": "ipython",
    "version": 3
   },
   "file_extension": ".py",
   "mimetype": "text/x-python",
   "name": "python",
   "nbconvert_exporter": "python",
   "pygments_lexer": "ipython3",
   "version": "3.8.6"
  },
  "varInspector": {
   "cols": {
    "lenName": 16,
    "lenType": 16,
    "lenVar": 40
   },
   "kernels_config": {
    "python": {
     "delete_cmd_postfix": "",
     "delete_cmd_prefix": "del ",
     "library": "var_list.py",
     "varRefreshCmd": "print(var_dic_list())"
    },
    "r": {
     "delete_cmd_postfix": ") ",
     "delete_cmd_prefix": "rm(",
     "library": "var_list.r",
     "varRefreshCmd": "cat(var_dic_list()) "
    }
   },
   "types_to_exclude": [
    "module",
    "function",
    "builtin_function_or_method",
    "instance",
    "_Feature"
   ],
   "window_display": false
  }
 },
 "nbformat": 4,
 "nbformat_minor": 4
}
